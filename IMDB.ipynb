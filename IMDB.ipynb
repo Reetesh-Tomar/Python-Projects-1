{
 "cells": [
  {
   "cell_type": "markdown",
   "metadata": {},
   "source": [
    "# IMDB Analysis\n",
    "\n",
    "#### Objective: finding out which factors influence movie sucessfullness using Random Forest Regressor\n",
    "\n",
    "**Data source:**\n",
    "* IMDB databases in csv format\n",
    "* IMDB website (scrapped)\n",
    "\n",
    "**Steps:**\n",
    "1. Data cleansing\n",
    "2. Scrapping additional data\n",
    "3. Further data cleansing\n",
    "4. Finding correlativity\n",
    "5. Predictions with Random Forest\n",
    "6. Finding importance of factors\n",
    "7. Final notes"
   ]
  },
  {
   "cell_type": "code",
   "execution_count": 1,
   "metadata": {},
   "outputs": [],
   "source": [
    "import pandas as pd\n",
    "import numpy as np\n",
    "import re\n",
    "import requests\n",
    "from functools import reduce\n",
    "from sklearn import preprocessing\n",
    "from bs4 import BeautifulSoup, SoupStrainer\n",
    "import urllib.request\n",
    "from ipywidgets import FloatProgress\n",
    "from IPython.display import display\n",
    "from currency_converter import CurrencyConverter\n",
    "import matplotlib.pyplot as plt\n",
    "import seaborn as sns\n",
    "from sklearn.preprocessing import LabelEncoder\n",
    "from sklearn.model_selection import train_test_split\n",
    "from sklearn.ensemble import RandomForestRegressor"
   ]
  },
  {
   "cell_type": "code",
   "execution_count": 2,
   "metadata": {},
   "outputs": [],
   "source": [
    "columnsSkip = ['originalTitle','endYear'] # skipping columns which will not be used in the analysis\n",
    "movies = pd.read_csv('./docsy/dataBasics.csv', usecols=lambda x: x not in columnsSkip, sep='\\t', low_memory=False)"
   ]
  },
  {
   "cell_type": "code",
   "execution_count": 3,
   "metadata": {},
   "outputs": [
    {
     "data": {
      "text/html": [
       "<div>\n",
       "<style scoped>\n",
       "    .dataframe tbody tr th:only-of-type {\n",
       "        vertical-align: middle;\n",
       "    }\n",
       "\n",
       "    .dataframe tbody tr th {\n",
       "        vertical-align: top;\n",
       "    }\n",
       "\n",
       "    .dataframe thead th {\n",
       "        text-align: right;\n",
       "    }\n",
       "</style>\n",
       "<table border=\"1\" class=\"dataframe\">\n",
       "  <thead>\n",
       "    <tr style=\"text-align: right;\">\n",
       "      <th></th>\n",
       "      <th>tconst</th>\n",
       "      <th>titleType</th>\n",
       "      <th>primaryTitle</th>\n",
       "      <th>isAdult</th>\n",
       "      <th>startYear</th>\n",
       "      <th>runtimeMinutes</th>\n",
       "      <th>genres</th>\n",
       "    </tr>\n",
       "  </thead>\n",
       "  <tbody>\n",
       "    <tr>\n",
       "      <th>0</th>\n",
       "      <td>tt0000001</td>\n",
       "      <td>short</td>\n",
       "      <td>Carmencita</td>\n",
       "      <td>0</td>\n",
       "      <td>1894</td>\n",
       "      <td>1</td>\n",
       "      <td>Documentary,Short</td>\n",
       "    </tr>\n",
       "    <tr>\n",
       "      <th>1</th>\n",
       "      <td>tt0000002</td>\n",
       "      <td>short</td>\n",
       "      <td>Le clown et ses chiens</td>\n",
       "      <td>0</td>\n",
       "      <td>1892</td>\n",
       "      <td>5</td>\n",
       "      <td>Animation,Short</td>\n",
       "    </tr>\n",
       "    <tr>\n",
       "      <th>2</th>\n",
       "      <td>tt0000003</td>\n",
       "      <td>short</td>\n",
       "      <td>Pauvre Pierrot</td>\n",
       "      <td>0</td>\n",
       "      <td>1892</td>\n",
       "      <td>4</td>\n",
       "      <td>Animation,Comedy,Romance</td>\n",
       "    </tr>\n",
       "    <tr>\n",
       "      <th>3</th>\n",
       "      <td>tt0000004</td>\n",
       "      <td>short</td>\n",
       "      <td>Un bon bock</td>\n",
       "      <td>0</td>\n",
       "      <td>1892</td>\n",
       "      <td>\\N</td>\n",
       "      <td>Animation,Short</td>\n",
       "    </tr>\n",
       "    <tr>\n",
       "      <th>4</th>\n",
       "      <td>tt0000005</td>\n",
       "      <td>short</td>\n",
       "      <td>Blacksmith Scene</td>\n",
       "      <td>0</td>\n",
       "      <td>1893</td>\n",
       "      <td>1</td>\n",
       "      <td>Comedy,Short</td>\n",
       "    </tr>\n",
       "  </tbody>\n",
       "</table>\n",
       "</div>"
      ],
      "text/plain": [
       "      tconst titleType            primaryTitle  isAdult startYear  \\\n",
       "0  tt0000001     short              Carmencita        0      1894   \n",
       "1  tt0000002     short  Le clown et ses chiens        0      1892   \n",
       "2  tt0000003     short          Pauvre Pierrot        0      1892   \n",
       "3  tt0000004     short             Un bon bock        0      1892   \n",
       "4  tt0000005     short        Blacksmith Scene        0      1893   \n",
       "\n",
       "  runtimeMinutes                    genres  \n",
       "0              1         Documentary,Short  \n",
       "1              5           Animation,Short  \n",
       "2              4  Animation,Comedy,Romance  \n",
       "3             \\N           Animation,Short  \n",
       "4              1              Comedy,Short  "
      ]
     },
     "execution_count": 3,
     "metadata": {},
     "output_type": "execute_result"
    }
   ],
   "source": [
    "movies.head()"
   ]
  },
  {
   "cell_type": "code",
   "execution_count": 4,
   "metadata": {},
   "outputs": [
    {
     "name": "stdout",
     "output_type": "stream",
     "text": [
      "<class 'pandas.core.frame.DataFrame'>\n",
      "RangeIndex: 6041205 entries, 0 to 6041204\n",
      "Data columns (total 7 columns):\n",
      "tconst            object\n",
      "titleType         object\n",
      "primaryTitle      object\n",
      "isAdult           int64\n",
      "startYear         object\n",
      "runtimeMinutes    object\n",
      "genres            object\n",
      "dtypes: int64(1), object(6)\n",
      "memory usage: 322.6+ MB\n"
     ]
    }
   ],
   "source": [
    "movies.info()"
   ]
  },
  {
   "cell_type": "markdown",
   "metadata": {},
   "source": [
    "## 1. Data Cleansing\n",
    "\n",
    "First, the Nans will be handled and the data will be converted into proper types."
   ]
  },
  {
   "cell_type": "markdown",
   "metadata": {},
   "source": [
    "'isAdult' can be only true or false:"
   ]
  },
  {
   "cell_type": "code",
   "execution_count": 5,
   "metadata": {},
   "outputs": [],
   "source": [
    "movies['isAdult'] = movies['isAdult'].astype('bool')"
   ]
  },
  {
   "cell_type": "markdown",
   "metadata": {},
   "source": [
    "Replacing \\N with np.nan in order to use ffil method for missing year values."
   ]
  },
  {
   "cell_type": "code",
   "execution_count": 6,
   "metadata": {},
   "outputs": [],
   "source": [
    "movies['startYear'] = movies['startYear'].replace('\\\\N', np.nan)\n",
    "movies['startYear'].fillna(method ='ffill', inplace = True) \n",
    "movies['startYear'] = movies['startYear'].astype('int')"
   ]
  },
  {
   "cell_type": "markdown",
   "metadata": {},
   "source": [
    "Identifying non-digital values in runtimeMinutes:"
   ]
  },
  {
   "cell_type": "code",
   "execution_count": 7,
   "metadata": {},
   "outputs": [
    {
     "data": {
      "text/plain": [
       "\\N                        4238682\n",
       "Reality-TV                      3\n",
       "Animation,Comedy,Drama          1\n",
       "Animation,Family                1\n",
       "Name: runtimeMinutes, dtype: int64"
      ]
     },
     "execution_count": 7,
     "metadata": {},
     "output_type": "execute_result"
    }
   ],
   "source": [
    "movies['runtimeMinutes'].where(movies['runtimeMinutes'].str.contains('\\D')).value_counts()"
   ]
  },
  {
   "cell_type": "markdown",
   "metadata": {},
   "source": [
    "Some values in 'runtimeMinutes' are being mixed with 'genres'. Those values need to be moved to the next column."
   ]
  },
  {
   "cell_type": "code",
   "execution_count": 8,
   "metadata": {},
   "outputs": [],
   "source": [
    "movies.loc[(movies.runtimeMinutes != '\\\\N') & (movies.runtimeMinutes.str.contains('\\D')==True),'genres'] = movies['runtimeMinutes']"
   ]
  },
  {
   "cell_type": "markdown",
   "metadata": {},
   "source": [
    "In turn, the missing values in runtimeMinutes will be filled by the mean runtime.\n",
    "\n",
    "In order to do so, first the non-digits will be converted to np.nan and the values will be converted to float."
   ]
  },
  {
   "cell_type": "code",
   "execution_count": 9,
   "metadata": {},
   "outputs": [],
   "source": [
    "movies.loc[(movies.runtimeMinutes.str.contains('\\D')==True),'runtimeMinutes'] = np.nan"
   ]
  },
  {
   "cell_type": "code",
   "execution_count": 10,
   "metadata": {},
   "outputs": [],
   "source": [
    "movies['runtimeMinutes'] = movies['runtimeMinutes'].astype('float')"
   ]
  },
  {
   "cell_type": "markdown",
   "metadata": {},
   "source": [
    "Based on whether movie is categorized as 'short', the average will be calculated using the values of the same kind."
   ]
  },
  {
   "cell_type": "code",
   "execution_count": 11,
   "metadata": {},
   "outputs": [],
   "source": [
    "shortMean = movies['runtimeMinutes'].loc[(movies.genres.str.contains('Short')==True)].mean()"
   ]
  },
  {
   "cell_type": "code",
   "execution_count": 12,
   "metadata": {},
   "outputs": [],
   "source": [
    "longMean = movies['runtimeMinutes'].loc[(movies.genres.str.contains('Short')==False)].mean()"
   ]
  },
  {
   "cell_type": "code",
   "execution_count": 13,
   "metadata": {},
   "outputs": [],
   "source": [
    "indicesTrue = (movies.genres.str.contains('Short')==True)\n",
    "indicesFalse = (movies.genres.str.contains('Short')==False)"
   ]
  },
  {
   "cell_type": "markdown",
   "metadata": {},
   "source": [
    "Filling the missing values:"
   ]
  },
  {
   "cell_type": "code",
   "execution_count": 14,
   "metadata": {},
   "outputs": [],
   "source": [
    "movies.loc[indicesTrue,'runtimeMinutes'] = movies.loc[indicesTrue,'runtimeMinutes'].fillna(shortMean)"
   ]
  },
  {
   "cell_type": "code",
   "execution_count": 15,
   "metadata": {},
   "outputs": [],
   "source": [
    "movies.loc[indicesFalse,'runtimeMinutes'] = movies.loc[indicesFalse,'runtimeMinutes'].fillna(longMean)"
   ]
  },
  {
   "cell_type": "markdown",
   "metadata": {},
   "source": [
    "Filling the rest of missing values, which do not fall into above categories:"
   ]
  },
  {
   "cell_type": "code",
   "execution_count": 16,
   "metadata": {},
   "outputs": [],
   "source": [
    "movies['runtimeMinutes'].fillna(0, inplace=True)"
   ]
  },
  {
   "cell_type": "markdown",
   "metadata": {},
   "source": [
    "Finally, the values can be converted to int"
   ]
  },
  {
   "cell_type": "code",
   "execution_count": 17,
   "metadata": {},
   "outputs": [],
   "source": [
    "movies['runtimeMinutes'] = movies['runtimeMinutes'].round()"
   ]
  },
  {
   "cell_type": "code",
   "execution_count": 18,
   "metadata": {},
   "outputs": [],
   "source": [
    "movies['runtimeMinutes'] = movies['runtimeMinutes'].astype(int)"
   ]
  },
  {
   "cell_type": "markdown",
   "metadata": {},
   "source": [
    "Since multiple genres are being stored in one column, they will be separated and stored into three separate colums.\n",
    "\n",
    "First, the string will be splited and expanded into columns using **expand = True** and then assigned to dataframe."
   ]
  },
  {
   "cell_type": "code",
   "execution_count": 19,
   "metadata": {},
   "outputs": [],
   "source": [
    "genresArr = movies['genres'].str.split(',', expand = True)"
   ]
  },
  {
   "cell_type": "code",
   "execution_count": 20,
   "metadata": {},
   "outputs": [],
   "source": [
    "movies['genreFirst'] = genresArr[0]\n",
    "movies['genreSecond'] = genresArr[1]\n",
    "movies['genreThird'] = genresArr[2]"
   ]
  },
  {
   "cell_type": "markdown",
   "metadata": {},
   "source": [
    "Original 'genres' column can be dropped now"
   ]
  },
  {
   "cell_type": "code",
   "execution_count": 21,
   "metadata": {},
   "outputs": [],
   "source": [
    "movies.drop(columns =['genres'], inplace = True)"
   ]
  },
  {
   "cell_type": "markdown",
   "metadata": {},
   "source": [
    "Replacing empty values with string 'None'"
   ]
  },
  {
   "cell_type": "code",
   "execution_count": 22,
   "metadata": {},
   "outputs": [],
   "source": [
    "movies.replace([None], 'None', inplace=True)\n",
    "movies['genreFirst'] = movies['genreFirst'].replace('\\\\N', 'None')"
   ]
  },
  {
   "cell_type": "markdown",
   "metadata": {},
   "source": [
    "Converting genres and title type into categorical data:"
   ]
  },
  {
   "cell_type": "code",
   "execution_count": 23,
   "metadata": {},
   "outputs": [],
   "source": [
    "movies['genreFirst'] = movies['genreFirst'].astype('category')\n",
    "movies['genreSecond'] = movies['genreSecond'].astype('category')\n",
    "movies['genreThird'] = movies['genreThird'].astype('category')\n",
    "movies['titleType'] = movies['titleType'].astype('category')"
   ]
  },
  {
   "cell_type": "markdown",
   "metadata": {},
   "source": [
    "Currently, the dtypes look as follows:"
   ]
  },
  {
   "cell_type": "code",
   "execution_count": 24,
   "metadata": {},
   "outputs": [
    {
     "name": "stdout",
     "output_type": "stream",
     "text": [
      "<class 'pandas.core.frame.DataFrame'>\n",
      "RangeIndex: 6041205 entries, 0 to 6041204\n",
      "Data columns (total 9 columns):\n",
      "tconst            object\n",
      "titleType         category\n",
      "primaryTitle      object\n",
      "isAdult           bool\n",
      "startYear         int32\n",
      "runtimeMinutes    int32\n",
      "genreFirst        category\n",
      "genreSecond       category\n",
      "genreThird        category\n",
      "dtypes: bool(1), category(4), int32(2), object(2)\n",
      "memory usage: 167.1+ MB\n"
     ]
    }
   ],
   "source": [
    "movies.info()"
   ]
  },
  {
   "cell_type": "markdown",
   "metadata": {},
   "source": [
    "After loading, ratings will be merged on **'tconst'**"
   ]
  },
  {
   "cell_type": "code",
   "execution_count": 25,
   "metadata": {},
   "outputs": [],
   "source": [
    "ratings = pd.read_csv('./docsy/dataRating.csv', sep='\\t', low_memory=False)"
   ]
  },
  {
   "cell_type": "code",
   "execution_count": 26,
   "metadata": {},
   "outputs": [],
   "source": [
    "movies = pd.merge(movies, ratings, on='tconst')"
   ]
  },
  {
   "cell_type": "code",
   "execution_count": 27,
   "metadata": {},
   "outputs": [
    {
     "data": {
      "text/html": [
       "<div>\n",
       "<style scoped>\n",
       "    .dataframe tbody tr th:only-of-type {\n",
       "        vertical-align: middle;\n",
       "    }\n",
       "\n",
       "    .dataframe tbody tr th {\n",
       "        vertical-align: top;\n",
       "    }\n",
       "\n",
       "    .dataframe thead th {\n",
       "        text-align: right;\n",
       "    }\n",
       "</style>\n",
       "<table border=\"1\" class=\"dataframe\">\n",
       "  <thead>\n",
       "    <tr style=\"text-align: right;\">\n",
       "      <th></th>\n",
       "      <th>tconst</th>\n",
       "      <th>titleType</th>\n",
       "      <th>primaryTitle</th>\n",
       "      <th>isAdult</th>\n",
       "      <th>startYear</th>\n",
       "      <th>runtimeMinutes</th>\n",
       "      <th>genreFirst</th>\n",
       "      <th>genreSecond</th>\n",
       "      <th>genreThird</th>\n",
       "      <th>averageRating</th>\n",
       "      <th>numVotes</th>\n",
       "    </tr>\n",
       "  </thead>\n",
       "  <tbody>\n",
       "    <tr>\n",
       "      <th>0</th>\n",
       "      <td>tt0000001</td>\n",
       "      <td>short</td>\n",
       "      <td>Carmencita</td>\n",
       "      <td>False</td>\n",
       "      <td>1894</td>\n",
       "      <td>1</td>\n",
       "      <td>Documentary</td>\n",
       "      <td>Short</td>\n",
       "      <td>None</td>\n",
       "      <td>5.8</td>\n",
       "      <td>1524</td>\n",
       "    </tr>\n",
       "    <tr>\n",
       "      <th>1</th>\n",
       "      <td>tt0000002</td>\n",
       "      <td>short</td>\n",
       "      <td>Le clown et ses chiens</td>\n",
       "      <td>False</td>\n",
       "      <td>1892</td>\n",
       "      <td>5</td>\n",
       "      <td>Animation</td>\n",
       "      <td>Short</td>\n",
       "      <td>None</td>\n",
       "      <td>6.3</td>\n",
       "      <td>185</td>\n",
       "    </tr>\n",
       "    <tr>\n",
       "      <th>2</th>\n",
       "      <td>tt0000003</td>\n",
       "      <td>short</td>\n",
       "      <td>Pauvre Pierrot</td>\n",
       "      <td>False</td>\n",
       "      <td>1892</td>\n",
       "      <td>4</td>\n",
       "      <td>Animation</td>\n",
       "      <td>Comedy</td>\n",
       "      <td>Romance</td>\n",
       "      <td>6.6</td>\n",
       "      <td>1171</td>\n",
       "    </tr>\n",
       "    <tr>\n",
       "      <th>3</th>\n",
       "      <td>tt0000004</td>\n",
       "      <td>short</td>\n",
       "      <td>Un bon bock</td>\n",
       "      <td>False</td>\n",
       "      <td>1892</td>\n",
       "      <td>13</td>\n",
       "      <td>Animation</td>\n",
       "      <td>Short</td>\n",
       "      <td>None</td>\n",
       "      <td>6.3</td>\n",
       "      <td>113</td>\n",
       "    </tr>\n",
       "    <tr>\n",
       "      <th>4</th>\n",
       "      <td>tt0000005</td>\n",
       "      <td>short</td>\n",
       "      <td>Blacksmith Scene</td>\n",
       "      <td>False</td>\n",
       "      <td>1893</td>\n",
       "      <td>1</td>\n",
       "      <td>Comedy</td>\n",
       "      <td>Short</td>\n",
       "      <td>None</td>\n",
       "      <td>6.2</td>\n",
       "      <td>1884</td>\n",
       "    </tr>\n",
       "  </tbody>\n",
       "</table>\n",
       "</div>"
      ],
      "text/plain": [
       "      tconst titleType            primaryTitle  isAdult  startYear  \\\n",
       "0  tt0000001     short              Carmencita    False       1894   \n",
       "1  tt0000002     short  Le clown et ses chiens    False       1892   \n",
       "2  tt0000003     short          Pauvre Pierrot    False       1892   \n",
       "3  tt0000004     short             Un bon bock    False       1892   \n",
       "4  tt0000005     short        Blacksmith Scene    False       1893   \n",
       "\n",
       "   runtimeMinutes   genreFirst genreSecond genreThird  averageRating  numVotes  \n",
       "0               1  Documentary       Short       None            5.8      1524  \n",
       "1               5    Animation       Short       None            6.3       185  \n",
       "2               4    Animation      Comedy    Romance            6.6      1171  \n",
       "3              13    Animation       Short       None            6.3       113  \n",
       "4               1       Comedy       Short       None            6.2      1884  "
      ]
     },
     "execution_count": 27,
     "metadata": {},
     "output_type": "execute_result"
    }
   ],
   "source": [
    "movies.head()"
   ]
  },
  {
   "cell_type": "code",
   "execution_count": 28,
   "metadata": {},
   "outputs": [
    {
     "name": "stdout",
     "output_type": "stream",
     "text": [
      "<class 'pandas.core.frame.DataFrame'>\n",
      "Int64Index: 956735 entries, 0 to 956734\n",
      "Data columns (total 11 columns):\n",
      "tconst            956735 non-null object\n",
      "titleType         956735 non-null category\n",
      "primaryTitle      956735 non-null object\n",
      "isAdult           956735 non-null bool\n",
      "startYear         956735 non-null int32\n",
      "runtimeMinutes    956735 non-null int32\n",
      "genreFirst        956735 non-null category\n",
      "genreSecond       956735 non-null category\n",
      "genreThird        956735 non-null category\n",
      "averageRating     956735 non-null float64\n",
      "numVotes          956735 non-null int64\n",
      "dtypes: bool(1), category(4), float64(1), int32(2), int64(1), object(2)\n",
      "memory usage: 48.4+ MB\n"
     ]
    }
   ],
   "source": [
    "movies.info()"
   ]
  },
  {
   "cell_type": "markdown",
   "metadata": {},
   "source": [
    "The popularity value will be calculated based on number of votes.\n",
    "\n",
    "First, values will be standarized on scale from 0 to 100:"
   ]
  },
  {
   "cell_type": "code",
   "execution_count": 29,
   "metadata": {},
   "outputs": [],
   "source": [
    "votes = movies['numVotes'].values.reshape(-1, 1)"
   ]
  },
  {
   "cell_type": "code",
   "execution_count": 30,
   "metadata": {},
   "outputs": [],
   "source": [
    "scaler = preprocessing.MinMaxScaler(feature_range=(0, 100))"
   ]
  },
  {
   "cell_type": "code",
   "execution_count": 31,
   "metadata": {},
   "outputs": [
    {
     "name": "stderr",
     "output_type": "stream",
     "text": [
      "C:\\Users\\Natalia\\Anaconda3\\lib\\site-packages\\sklearn\\utils\\validation.py:595: DataConversionWarning: Data with input dtype int64 was converted to float64 by MinMaxScaler.\n",
      "  warnings.warn(msg, DataConversionWarning)\n"
     ]
    }
   ],
   "source": [
    "standarized = scaler.fit_transform(votes)"
   ]
  },
  {
   "cell_type": "code",
   "execution_count": 32,
   "metadata": {},
   "outputs": [],
   "source": [
    "standarized = standarized.flatten()"
   ]
  },
  {
   "cell_type": "code",
   "execution_count": 33,
   "metadata": {},
   "outputs": [],
   "source": [
    "standarized = np.round(standarized, 2)"
   ]
  },
  {
   "cell_type": "code",
   "execution_count": 34,
   "metadata": {},
   "outputs": [],
   "source": [
    "standarized = pd.Series(standarized)"
   ]
  },
  {
   "cell_type": "code",
   "execution_count": 35,
   "metadata": {},
   "outputs": [],
   "source": [
    "movies['popularity'] = standarized"
   ]
  },
  {
   "cell_type": "markdown",
   "metadata": {},
   "source": [
    "The popularity will have 5 values, based on categories generated by bins of value_counts"
   ]
  },
  {
   "cell_type": "code",
   "execution_count": 36,
   "metadata": {},
   "outputs": [
    {
     "data": {
      "text/plain": [
       "(-0.101, 20.0]    956469\n",
       "(20.0, 40.0]         212\n",
       "(40.0, 60.0]          39\n",
       "(60.0, 80.0]          12\n",
       "(80.0, 100.0]          3\n",
       "Name: popularity, dtype: int64"
      ]
     },
     "execution_count": 36,
     "metadata": {},
     "output_type": "execute_result"
    }
   ],
   "source": [
    "movies['popularity'].value_counts(bins=5)"
   ]
  },
  {
   "cell_type": "code",
   "execution_count": 37,
   "metadata": {},
   "outputs": [],
   "source": [
    "conditions = [\n",
    "    movies['popularity'] < 20,\n",
    "    (movies['popularity'] >= 20) & (movies['popularity'] < 40),\n",
    "    (movies['popularity'] >= 40) & (movies['popularity'] < 60),\n",
    "    (movies['popularity'] >= 60) & (movies['popularity'] < 80),\n",
    "    movies['popularity'] > 80,\n",
    "]\n",
    "\n",
    "values = [1, 2, 3, 4, 5]"
   ]
  },
  {
   "cell_type": "code",
   "execution_count": 38,
   "metadata": {},
   "outputs": [],
   "source": [
    "movies['popularity'] = np.select(conditions, values, default='1')\n",
    "movies['popularity'] = movies['popularity'].astype(int)\n",
    "movies['score'] = movies['popularity'] * movies['averageRating']"
   ]
  },
  {
   "cell_type": "code",
   "execution_count": 39,
   "metadata": {},
   "outputs": [
    {
     "data": {
      "text/html": [
       "<div>\n",
       "<style scoped>\n",
       "    .dataframe tbody tr th:only-of-type {\n",
       "        vertical-align: middle;\n",
       "    }\n",
       "\n",
       "    .dataframe tbody tr th {\n",
       "        vertical-align: top;\n",
       "    }\n",
       "\n",
       "    .dataframe thead th {\n",
       "        text-align: right;\n",
       "    }\n",
       "</style>\n",
       "<table border=\"1\" class=\"dataframe\">\n",
       "  <thead>\n",
       "    <tr style=\"text-align: right;\">\n",
       "      <th></th>\n",
       "      <th>tconst</th>\n",
       "      <th>titleType</th>\n",
       "      <th>primaryTitle</th>\n",
       "      <th>isAdult</th>\n",
       "      <th>startYear</th>\n",
       "      <th>runtimeMinutes</th>\n",
       "      <th>genreFirst</th>\n",
       "      <th>genreSecond</th>\n",
       "      <th>genreThird</th>\n",
       "      <th>averageRating</th>\n",
       "      <th>numVotes</th>\n",
       "      <th>popularity</th>\n",
       "      <th>score</th>\n",
       "    </tr>\n",
       "  </thead>\n",
       "  <tbody>\n",
       "    <tr>\n",
       "      <th>0</th>\n",
       "      <td>tt0000001</td>\n",
       "      <td>short</td>\n",
       "      <td>Carmencita</td>\n",
       "      <td>False</td>\n",
       "      <td>1894</td>\n",
       "      <td>1</td>\n",
       "      <td>Documentary</td>\n",
       "      <td>Short</td>\n",
       "      <td>None</td>\n",
       "      <td>5.8</td>\n",
       "      <td>1524</td>\n",
       "      <td>1</td>\n",
       "      <td>5.8</td>\n",
       "    </tr>\n",
       "    <tr>\n",
       "      <th>1</th>\n",
       "      <td>tt0000002</td>\n",
       "      <td>short</td>\n",
       "      <td>Le clown et ses chiens</td>\n",
       "      <td>False</td>\n",
       "      <td>1892</td>\n",
       "      <td>5</td>\n",
       "      <td>Animation</td>\n",
       "      <td>Short</td>\n",
       "      <td>None</td>\n",
       "      <td>6.3</td>\n",
       "      <td>185</td>\n",
       "      <td>1</td>\n",
       "      <td>6.3</td>\n",
       "    </tr>\n",
       "    <tr>\n",
       "      <th>2</th>\n",
       "      <td>tt0000003</td>\n",
       "      <td>short</td>\n",
       "      <td>Pauvre Pierrot</td>\n",
       "      <td>False</td>\n",
       "      <td>1892</td>\n",
       "      <td>4</td>\n",
       "      <td>Animation</td>\n",
       "      <td>Comedy</td>\n",
       "      <td>Romance</td>\n",
       "      <td>6.6</td>\n",
       "      <td>1171</td>\n",
       "      <td>1</td>\n",
       "      <td>6.6</td>\n",
       "    </tr>\n",
       "    <tr>\n",
       "      <th>3</th>\n",
       "      <td>tt0000004</td>\n",
       "      <td>short</td>\n",
       "      <td>Un bon bock</td>\n",
       "      <td>False</td>\n",
       "      <td>1892</td>\n",
       "      <td>13</td>\n",
       "      <td>Animation</td>\n",
       "      <td>Short</td>\n",
       "      <td>None</td>\n",
       "      <td>6.3</td>\n",
       "      <td>113</td>\n",
       "      <td>1</td>\n",
       "      <td>6.3</td>\n",
       "    </tr>\n",
       "    <tr>\n",
       "      <th>4</th>\n",
       "      <td>tt0000005</td>\n",
       "      <td>short</td>\n",
       "      <td>Blacksmith Scene</td>\n",
       "      <td>False</td>\n",
       "      <td>1893</td>\n",
       "      <td>1</td>\n",
       "      <td>Comedy</td>\n",
       "      <td>Short</td>\n",
       "      <td>None</td>\n",
       "      <td>6.2</td>\n",
       "      <td>1884</td>\n",
       "      <td>1</td>\n",
       "      <td>6.2</td>\n",
       "    </tr>\n",
       "  </tbody>\n",
       "</table>\n",
       "</div>"
      ],
      "text/plain": [
       "      tconst titleType            primaryTitle  isAdult  startYear  \\\n",
       "0  tt0000001     short              Carmencita    False       1894   \n",
       "1  tt0000002     short  Le clown et ses chiens    False       1892   \n",
       "2  tt0000003     short          Pauvre Pierrot    False       1892   \n",
       "3  tt0000004     short             Un bon bock    False       1892   \n",
       "4  tt0000005     short        Blacksmith Scene    False       1893   \n",
       "\n",
       "   runtimeMinutes   genreFirst genreSecond genreThird  averageRating  \\\n",
       "0               1  Documentary       Short       None            5.8   \n",
       "1               5    Animation       Short       None            6.3   \n",
       "2               4    Animation      Comedy    Romance            6.6   \n",
       "3              13    Animation       Short       None            6.3   \n",
       "4               1       Comedy       Short       None            6.2   \n",
       "\n",
       "   numVotes  popularity  score  \n",
       "0      1524           1    5.8  \n",
       "1       185           1    6.3  \n",
       "2      1171           1    6.6  \n",
       "3       113           1    6.3  \n",
       "4      1884           1    6.2  "
      ]
     },
     "execution_count": 39,
     "metadata": {},
     "output_type": "execute_result"
    }
   ],
   "source": [
    "movies.head()"
   ]
  },
  {
   "cell_type": "markdown",
   "metadata": {},
   "source": [
    "## 2. Scrapping additional data\n",
    "\n",
    "As the numbers of won Oscars, Oscars nominations and budget are not included in the already prepared databases, they need to be scrapped from the website. \n",
    "\n",
    "Since the row count would be too large to process with BeautifulSoup in reasonable time, 10000 most and least succesfull movies from 1950 and onwards will be used in further analysis."
   ]
  },
  {
   "cell_type": "code",
   "execution_count": 40,
   "metadata": {},
   "outputs": [],
   "source": [
    "topMovies = movies.where((movies['startYear']>1950) & (movies['titleType'] == 'movie')).nlargest(10000, 'score')"
   ]
  },
  {
   "cell_type": "code",
   "execution_count": 41,
   "metadata": {},
   "outputs": [],
   "source": [
    "bottomMovies = movies.where((movies['startYear']>1950) & (movies['titleType'] == 'movie')).nsmallest(10000, 'score')"
   ]
  },
  {
   "cell_type": "code",
   "execution_count": 42,
   "metadata": {},
   "outputs": [],
   "source": [
    "topArr = topMovies['tconst'].values \n",
    "bottomArr =  bottomMovies['tconst'].values\n",
    "tconstArr = np.concatenate((topArr, bottomArr))"
   ]
  },
  {
   "cell_type": "markdown",
   "metadata": {},
   "source": [
    "Scrapping the data and saving it into csv file for easy access in the future:"
   ]
  },
  {
   "cell_type": "code",
   "execution_count": 43,
   "metadata": {},
   "outputs": [],
   "source": [
    "# countryList = []\n",
    "# budgetList = []\n",
    "# oscarsWinList = []\n",
    "# oscarsNomList =[]\n",
    "\n",
    "# divTags = SoupStrainer('div',{'class': 'txt-block'})\n",
    "\n",
    "# f = FloatProgress(min=0, max=20000)\n",
    "# display(f)\n",
    "        \n",
    "# for i, t in enumerate(tconstArr):\n",
    "    \n",
    "#     response = requests.get('https://www.imdb.com/title/'+t)\n",
    "    \n",
    "#     if response.status_code == 200:\n",
    "        \n",
    "#         oscarsNominee = 0\n",
    "#         oscarsWinner = 0\n",
    "        \n",
    "#         page = urllib.request.urlopen('https://www.imdb.com/title/'+t)\n",
    "#         pageAwards = urllib.request.urlopen('https://www.imdb.com/title/'+t+'/awards')\n",
    "        \n",
    "#         soup = BeautifulSoup(page,parse_only=divTags)\n",
    "#         allH = soup.findAll('h4')\n",
    "    \n",
    "#         soupAwards = BeautifulSoup(pageAwards)\n",
    "        \n",
    "#         if (soupAwards.find('table', {'class':'awards'})):\n",
    "#             table = soupAwards.find('table', {'class':'awards'}) #Oscars, if any, always appear first on awards page, so no findAll needed - only first element.\n",
    "#             awardsTd = table.findAll('td', {'class':'title_award_outcome'})\n",
    "\n",
    "#             for td in awardsTd:\n",
    "#                 b = td.find('b')\n",
    "#                 if ((b.text.strip() == 'Winner')&(b.findNext('span').text=='Oscar')):\n",
    "#                     oscarsWinner = td.get('rowspan')\n",
    "#                 elif ((b.text.strip() == 'Nominee')&(b.findNext('span').text=='Oscar')):\n",
    "#                     oscarsNominee = td.get('rowspan')\n",
    "\n",
    "\n",
    "#         for h in allH:\n",
    "#             if (h.text.strip() == 'Country:'):\n",
    "#                 countryList.append(h.findNext('a').text.strip())\n",
    "#             elif (h.text.strip() == 'Budget:'):\n",
    "#                 budgetList.append(h.nextSibling.string.strip())\n",
    "\n",
    "#         try:\n",
    "#             countryList[i]\n",
    "#         except:\n",
    "#             countryList.append(np.nan)\n",
    "            \n",
    "#         try:\n",
    "#             budgetList[i]\n",
    "#         except:\n",
    "#             budgetList.append(0)\n",
    "            \n",
    "#         oscarsWinList.append(oscarsWinner)\n",
    "#         oscarsNomList.append(oscarsNominee)\n",
    "#         f.value += 1\n",
    "        \n",
    "#     else:\n",
    "#         print(t + ' was not found. Deleting...')\n",
    "#         tconstArr = np.delete(tconstArr, np.where(tconstArr == t))\n",
    "#         budgetList = np.delete(budgetList, np.where(tconstArr == t))\n",
    "#         countryList = np.delete(countryList, np.where(tconstArr == t))\n",
    "#         f.value += 1\n",
    "        \n",
    "# df=pd.DataFrame(tconstArr,columns=['tconst'])\n",
    "# df['orginCountry'] = countryList\n",
    "# df['budget'] = budgetList\n",
    "# df['oscarsWin'] = oscarsWinList\n",
    "# df['oscarsNom'] = oscarsNomList\n",
    "# df.to_csv('dataAdd.csv')"
   ]
  },
  {
   "cell_type": "markdown",
   "metadata": {},
   "source": [
    "## 3. Further data cleansing\n",
    "\n",
    "The newly obtained data is being incorporated into the selected movies database."
   ]
  },
  {
   "cell_type": "code",
   "execution_count": 44,
   "metadata": {},
   "outputs": [
    {
     "data": {
      "text/html": [
       "<div>\n",
       "<style scoped>\n",
       "    .dataframe tbody tr th:only-of-type {\n",
       "        vertical-align: middle;\n",
       "    }\n",
       "\n",
       "    .dataframe tbody tr th {\n",
       "        vertical-align: top;\n",
       "    }\n",
       "\n",
       "    .dataframe thead th {\n",
       "        text-align: right;\n",
       "    }\n",
       "</style>\n",
       "<table border=\"1\" class=\"dataframe\">\n",
       "  <thead>\n",
       "    <tr style=\"text-align: right;\">\n",
       "      <th></th>\n",
       "      <th>tconst</th>\n",
       "      <th>orginCountry</th>\n",
       "      <th>budget</th>\n",
       "      <th>oscarsWin</th>\n",
       "      <th>oscarsNom</th>\n",
       "    </tr>\n",
       "  </thead>\n",
       "  <tbody>\n",
       "    <tr>\n",
       "      <th>0</th>\n",
       "      <td>tt0111161</td>\n",
       "      <td>USA</td>\n",
       "      <td>$25,000,000</td>\n",
       "      <td>0</td>\n",
       "      <td>7</td>\n",
       "    </tr>\n",
       "    <tr>\n",
       "      <th>1</th>\n",
       "      <td>tt0468569</td>\n",
       "      <td>USA</td>\n",
       "      <td>$185,000,000</td>\n",
       "      <td>2</td>\n",
       "      <td>6</td>\n",
       "    </tr>\n",
       "    <tr>\n",
       "      <th>2</th>\n",
       "      <td>tt1375666</td>\n",
       "      <td>USA</td>\n",
       "      <td>$160,000,000</td>\n",
       "      <td>4</td>\n",
       "      <td>4</td>\n",
       "    </tr>\n",
       "    <tr>\n",
       "      <th>3</th>\n",
       "      <td>tt0068646</td>\n",
       "      <td>USA</td>\n",
       "      <td>$6,000,000</td>\n",
       "      <td>3</td>\n",
       "      <td>8</td>\n",
       "    </tr>\n",
       "    <tr>\n",
       "      <th>4</th>\n",
       "      <td>tt0110912</td>\n",
       "      <td>USA</td>\n",
       "      <td>$8,000,000</td>\n",
       "      <td>1</td>\n",
       "      <td>6</td>\n",
       "    </tr>\n",
       "  </tbody>\n",
       "</table>\n",
       "</div>"
      ],
      "text/plain": [
       "      tconst orginCountry        budget  oscarsWin  oscarsNom\n",
       "0  tt0111161          USA   $25,000,000          0          7\n",
       "1  tt0468569          USA  $185,000,000          2          6\n",
       "2  tt1375666          USA  $160,000,000          4          4\n",
       "3  tt0068646          USA    $6,000,000          3          8\n",
       "4  tt0110912          USA    $8,000,000          1          6"
      ]
     },
     "execution_count": 44,
     "metadata": {},
     "output_type": "execute_result"
    }
   ],
   "source": [
    "columnsSkip = ['Unnamed: 0']\n",
    "df = pd.read_csv('dataAdd.csv', usecols=lambda x: x not in columnsSkip)\n",
    "df.head()"
   ]
  },
  {
   "cell_type": "code",
   "execution_count": 45,
   "metadata": {},
   "outputs": [],
   "source": [
    "moviesSelect = pd.concat([topMovies, bottomMovies])"
   ]
  },
  {
   "cell_type": "code",
   "execution_count": 46,
   "metadata": {},
   "outputs": [],
   "source": [
    "moviesSelect = pd.merge(moviesSelect, df, on='tconst')"
   ]
  },
  {
   "cell_type": "code",
   "execution_count": 47,
   "metadata": {},
   "outputs": [
    {
     "data": {
      "text/html": [
       "<div>\n",
       "<style scoped>\n",
       "    .dataframe tbody tr th:only-of-type {\n",
       "        vertical-align: middle;\n",
       "    }\n",
       "\n",
       "    .dataframe tbody tr th {\n",
       "        vertical-align: top;\n",
       "    }\n",
       "\n",
       "    .dataframe thead th {\n",
       "        text-align: right;\n",
       "    }\n",
       "</style>\n",
       "<table border=\"1\" class=\"dataframe\">\n",
       "  <thead>\n",
       "    <tr style=\"text-align: right;\">\n",
       "      <th></th>\n",
       "      <th>tconst</th>\n",
       "      <th>titleType</th>\n",
       "      <th>primaryTitle</th>\n",
       "      <th>isAdult</th>\n",
       "      <th>startYear</th>\n",
       "      <th>runtimeMinutes</th>\n",
       "      <th>genreFirst</th>\n",
       "      <th>genreSecond</th>\n",
       "      <th>genreThird</th>\n",
       "      <th>averageRating</th>\n",
       "      <th>numVotes</th>\n",
       "      <th>popularity</th>\n",
       "      <th>score</th>\n",
       "      <th>orginCountry</th>\n",
       "      <th>budget</th>\n",
       "      <th>oscarsWin</th>\n",
       "      <th>oscarsNom</th>\n",
       "    </tr>\n",
       "  </thead>\n",
       "  <tbody>\n",
       "    <tr>\n",
       "      <th>0</th>\n",
       "      <td>tt0111161</td>\n",
       "      <td>movie</td>\n",
       "      <td>The Shawshank Redemption</td>\n",
       "      <td>0.0</td>\n",
       "      <td>1994.0</td>\n",
       "      <td>142.0</td>\n",
       "      <td>Drama</td>\n",
       "      <td>None</td>\n",
       "      <td>None</td>\n",
       "      <td>9.3</td>\n",
       "      <td>2117204.0</td>\n",
       "      <td>5.0</td>\n",
       "      <td>46.5</td>\n",
       "      <td>USA</td>\n",
       "      <td>$25,000,000</td>\n",
       "      <td>0</td>\n",
       "      <td>7</td>\n",
       "    </tr>\n",
       "    <tr>\n",
       "      <th>1</th>\n",
       "      <td>tt0468569</td>\n",
       "      <td>movie</td>\n",
       "      <td>The Dark Knight</td>\n",
       "      <td>0.0</td>\n",
       "      <td>2008.0</td>\n",
       "      <td>152.0</td>\n",
       "      <td>Action</td>\n",
       "      <td>Crime</td>\n",
       "      <td>Drama</td>\n",
       "      <td>9.0</td>\n",
       "      <td>2082865.0</td>\n",
       "      <td>5.0</td>\n",
       "      <td>45.0</td>\n",
       "      <td>USA</td>\n",
       "      <td>$185,000,000</td>\n",
       "      <td>2</td>\n",
       "      <td>6</td>\n",
       "    </tr>\n",
       "    <tr>\n",
       "      <th>2</th>\n",
       "      <td>tt1375666</td>\n",
       "      <td>movie</td>\n",
       "      <td>Inception</td>\n",
       "      <td>0.0</td>\n",
       "      <td>2010.0</td>\n",
       "      <td>148.0</td>\n",
       "      <td>Action</td>\n",
       "      <td>Adventure</td>\n",
       "      <td>Sci-Fi</td>\n",
       "      <td>8.8</td>\n",
       "      <td>1856206.0</td>\n",
       "      <td>5.0</td>\n",
       "      <td>44.0</td>\n",
       "      <td>USA</td>\n",
       "      <td>$160,000,000</td>\n",
       "      <td>4</td>\n",
       "      <td>4</td>\n",
       "    </tr>\n",
       "    <tr>\n",
       "      <th>3</th>\n",
       "      <td>tt0068646</td>\n",
       "      <td>movie</td>\n",
       "      <td>The Godfather</td>\n",
       "      <td>0.0</td>\n",
       "      <td>1972.0</td>\n",
       "      <td>175.0</td>\n",
       "      <td>Crime</td>\n",
       "      <td>Drama</td>\n",
       "      <td>None</td>\n",
       "      <td>9.2</td>\n",
       "      <td>1453649.0</td>\n",
       "      <td>4.0</td>\n",
       "      <td>36.8</td>\n",
       "      <td>USA</td>\n",
       "      <td>$6,000,000</td>\n",
       "      <td>3</td>\n",
       "      <td>8</td>\n",
       "    </tr>\n",
       "    <tr>\n",
       "      <th>4</th>\n",
       "      <td>tt0110912</td>\n",
       "      <td>movie</td>\n",
       "      <td>Pulp Fiction</td>\n",
       "      <td>0.0</td>\n",
       "      <td>1994.0</td>\n",
       "      <td>154.0</td>\n",
       "      <td>Crime</td>\n",
       "      <td>Drama</td>\n",
       "      <td>None</td>\n",
       "      <td>8.9</td>\n",
       "      <td>1656371.0</td>\n",
       "      <td>4.0</td>\n",
       "      <td>35.6</td>\n",
       "      <td>USA</td>\n",
       "      <td>$8,000,000</td>\n",
       "      <td>1</td>\n",
       "      <td>6</td>\n",
       "    </tr>\n",
       "  </tbody>\n",
       "</table>\n",
       "</div>"
      ],
      "text/plain": [
       "      tconst titleType              primaryTitle  isAdult  startYear  \\\n",
       "0  tt0111161     movie  The Shawshank Redemption      0.0     1994.0   \n",
       "1  tt0468569     movie           The Dark Knight      0.0     2008.0   \n",
       "2  tt1375666     movie                 Inception      0.0     2010.0   \n",
       "3  tt0068646     movie             The Godfather      0.0     1972.0   \n",
       "4  tt0110912     movie              Pulp Fiction      0.0     1994.0   \n",
       "\n",
       "   runtimeMinutes genreFirst genreSecond genreThird  averageRating   numVotes  \\\n",
       "0           142.0      Drama        None       None            9.3  2117204.0   \n",
       "1           152.0     Action       Crime      Drama            9.0  2082865.0   \n",
       "2           148.0     Action   Adventure     Sci-Fi            8.8  1856206.0   \n",
       "3           175.0      Crime       Drama       None            9.2  1453649.0   \n",
       "4           154.0      Crime       Drama       None            8.9  1656371.0   \n",
       "\n",
       "   popularity  score orginCountry        budget  oscarsWin  oscarsNom  \n",
       "0         5.0   46.5          USA   $25,000,000          0          7  \n",
       "1         5.0   45.0          USA  $185,000,000          2          6  \n",
       "2         5.0   44.0          USA  $160,000,000          4          4  \n",
       "3         4.0   36.8          USA    $6,000,000          3          8  \n",
       "4         4.0   35.6          USA    $8,000,000          1          6  "
      ]
     },
     "execution_count": 47,
     "metadata": {},
     "output_type": "execute_result"
    }
   ],
   "source": [
    "moviesSelect.head()"
   ]
  },
  {
   "cell_type": "markdown",
   "metadata": {},
   "source": [
    "Filling Nans in orginCountry column:"
   ]
  },
  {
   "cell_type": "code",
   "execution_count": 48,
   "metadata": {},
   "outputs": [],
   "source": [
    "moviesSelect['orginCountry'].fillna('None', inplace=True)"
   ]
  },
  {
   "cell_type": "markdown",
   "metadata": {},
   "source": [
    "Upon inspecting 'budget' column it seems that not every value is shown in dollars."
   ]
  },
  {
   "cell_type": "code",
   "execution_count": 49,
   "metadata": {},
   "outputs": [
    {
     "data": {
      "text/plain": [
       "$       3584\n",
       "€        481\n",
       "£        320\n",
       "INR      198\n",
       "CAD      188\n",
       "AUD       99\n",
       "RUR       61\n",
       "SEK       41\n",
       "NOK       29\n",
       "BRL       27\n",
       "Name: budget, dtype: int64"
      ]
     },
     "execution_count": 49,
     "metadata": {},
     "output_type": "execute_result"
    }
   ],
   "source": [
    "moviesSelect['budget'].str.findall('\\D+').str[0].value_counts().head(10)"
   ]
  },
  {
   "cell_type": "markdown",
   "metadata": {},
   "source": [
    "The budget will be converted to USD using currency converter.\n",
    "\n",
    "First three entries can be easily recognized:"
   ]
  },
  {
   "cell_type": "code",
   "execution_count": 50,
   "metadata": {},
   "outputs": [],
   "source": [
    "currDict = {'$':'USD', '£':'GBP', '€':'EUR'}\n",
    "\n",
    "for key in currDict.keys():\n",
    "    moviesSelect['budget'] = moviesSelect['budget'].str.replace(key, currDict[key])"
   ]
  },
  {
   "cell_type": "markdown",
   "metadata": {},
   "source": [
    "Some values are empty, since budget have been scrapped as 0, due to it not being provided on the website.\n",
    "\n",
    "The empty values will be changed to 0 for now."
   ]
  },
  {
   "cell_type": "code",
   "execution_count": 51,
   "metadata": {},
   "outputs": [],
   "source": [
    "currArr = moviesSelect['budget'].str.replace(',','').str.findall('\\D+[A-Z]').str[0]\n",
    "valArr = moviesSelect['budget'].str.replace('\\D','').astype(float)\n",
    "currArrZero = []"
   ]
  },
  {
   "cell_type": "markdown",
   "metadata": {},
   "source": [
    "It may happen that some currencies are not being supported by currency converter. \n",
    "\n",
    "Those can be easily detected by checking if the value does not appear on **c.currencies** list."
   ]
  },
  {
   "cell_type": "code",
   "execution_count": 52,
   "metadata": {},
   "outputs": [],
   "source": [
    "for curr in currArr:\n",
    "    currArrZero.append(np.nan_to_num(curr))"
   ]
  },
  {
   "cell_type": "code",
   "execution_count": 53,
   "metadata": {},
   "outputs": [],
   "source": [
    "c = CurrencyConverter()\n",
    "unsupported = []\n",
    "for i in range(0,19997):\n",
    "    if (currArrZero[i] not in c.currencies)&(currArrZero[i] != 0):\n",
    "        unsupported.append(currArrZero[i])"
   ]
  },
  {
   "cell_type": "markdown",
   "metadata": {},
   "source": [
    "The duplicates will be removed in order to fetch the conversion rate for dollar from <http://exchangerate.com/>."
   ]
  },
  {
   "cell_type": "code",
   "execution_count": 54,
   "metadata": {},
   "outputs": [],
   "source": [
    "unsupported = np.unique(unsupported)\n",
    "unsupportedExg = []"
   ]
  },
  {
   "cell_type": "code",
   "execution_count": 55,
   "metadata": {},
   "outputs": [],
   "source": [
    "tdTags = SoupStrainer('b')\n",
    "for unsup in unsupported:\n",
    "    page = urllib.request.urlopen('http://www.exchangerate.com/currency-converter/USD/'+unsup)\n",
    "    soup = BeautifulSoup(page,parse_only=tdTags)\n",
    "    allB = soup.findAll('b')\n",
    "    exg = float(allB[11].text)\n",
    "    exg = np.format_float_positional(exg)\n",
    "    unsupportedExg.append(exg)"
   ]
  },
  {
   "cell_type": "markdown",
   "metadata": {},
   "source": [
    "Now, budget will be converted to USD by currency converter, previously scrapped data or it will simply be 0, based on the type of currency the original value."
   ]
  },
  {
   "cell_type": "code",
   "execution_count": 56,
   "metadata": {},
   "outputs": [],
   "source": [
    "newValArr = []\n",
    "\n",
    "for i in range(0,19997):\n",
    "    if (currArrZero[i] == 0):\n",
    "        newValArr.append(0)\n",
    "    elif ((currArrZero[i] not in c.currencies)&(currArrZero[i] != 0)):\n",
    "        newValArr.append(int(valArr[i]*(float(unsupportedExg[np.where(unsupported == currArrZero[i])[0][0]]))))\n",
    "    else:\n",
    "        newValArr.append(int(c.convert(valArr[i], currArrZero[i], 'USD')))"
   ]
  },
  {
   "cell_type": "code",
   "execution_count": 57,
   "metadata": {},
   "outputs": [],
   "source": [
    "moviesSelect['budget'] = newValArr\n",
    "moviesSelect.rename(columns={'budget':'budgetUSD'}, inplace=True)"
   ]
  },
  {
   "cell_type": "markdown",
   "metadata": {},
   "source": [
    "As the database is ready to be encoded and used for predictions, the values can be converted into ints and bools where possible."
   ]
  },
  {
   "cell_type": "code",
   "execution_count": 58,
   "metadata": {},
   "outputs": [],
   "source": [
    "moviesSelect['tconst'] = moviesSelect['tconst'].str.replace('\\D','')\n",
    "moviesSelect['tconst'] = moviesSelect['tconst'].astype(int)"
   ]
  },
  {
   "cell_type": "code",
   "execution_count": 59,
   "metadata": {},
   "outputs": [],
   "source": [
    "moviesSelect['oscarsWin'] = moviesSelect['oscarsWin'].astype(int)\n",
    "moviesSelect['oscarsNom'] = moviesSelect['oscarsNom'].astype(int)"
   ]
  },
  {
   "cell_type": "code",
   "execution_count": 60,
   "metadata": {},
   "outputs": [],
   "source": [
    "moviesSelect['startYear'] = moviesSelect['startYear'].astype(int)\n",
    "moviesSelect['runtimeMinutes'] = moviesSelect['runtimeMinutes'].astype(int)\n",
    "moviesSelect['numVotes'] = moviesSelect['numVotes'].astype(int)\n",
    "moviesSelect['score'] = moviesSelect['score'].astype(int)\n",
    "moviesSelect['averageRating'] = moviesSelect['averageRating'].astype(int)\n",
    "moviesSelect['popularity'] = moviesSelect['popularity'].astype(int)\n",
    "moviesSelect['isAdult'] = moviesSelect['isAdult'].astype(bool)\n",
    "moviesSelect['budgetUSD'] = moviesSelect['budgetUSD'].astype(int)"
   ]
  },
  {
   "cell_type": "code",
   "execution_count": 61,
   "metadata": {},
   "outputs": [
    {
     "name": "stdout",
     "output_type": "stream",
     "text": [
      "<class 'pandas.core.frame.DataFrame'>\n",
      "Int64Index: 19997 entries, 0 to 19996\n",
      "Data columns (total 17 columns):\n",
      "tconst            19997 non-null int32\n",
      "titleType         19997 non-null category\n",
      "primaryTitle      19997 non-null object\n",
      "isAdult           19997 non-null bool\n",
      "startYear         19997 non-null int32\n",
      "runtimeMinutes    19997 non-null int32\n",
      "genreFirst        19997 non-null category\n",
      "genreSecond       19997 non-null category\n",
      "genreThird        19997 non-null category\n",
      "averageRating     19997 non-null int32\n",
      "numVotes          19997 non-null int32\n",
      "popularity        19997 non-null int32\n",
      "score             19997 non-null int32\n",
      "orginCountry      19997 non-null object\n",
      "budgetUSD         19997 non-null int32\n",
      "oscarsWin         19997 non-null int32\n",
      "oscarsNom         19997 non-null int32\n",
      "dtypes: bool(1), category(4), int32(10), object(2)\n",
      "memory usage: 1.3+ MB\n"
     ]
    }
   ],
   "source": [
    "moviesSelect.info()"
   ]
  },
  {
   "cell_type": "markdown",
   "metadata": {},
   "source": [
    "Finally, the rest of data can be label encoded."
   ]
  },
  {
   "cell_type": "code",
   "execution_count": 62,
   "metadata": {},
   "outputs": [],
   "source": [
    "moviesSelectEnc = moviesSelect.apply(LabelEncoder().fit_transform)"
   ]
  },
  {
   "cell_type": "code",
   "execution_count": 63,
   "metadata": {},
   "outputs": [],
   "source": [
    "moviesSelectEnc.drop(['titleType','primaryTitle', 'genreSecond', 'genreThird'],axis=1, inplace=True)"
   ]
  },
  {
   "cell_type": "code",
   "execution_count": 64,
   "metadata": {},
   "outputs": [
    {
     "data": {
      "text/html": [
       "<div>\n",
       "<style scoped>\n",
       "    .dataframe tbody tr th:only-of-type {\n",
       "        vertical-align: middle;\n",
       "    }\n",
       "\n",
       "    .dataframe tbody tr th {\n",
       "        vertical-align: top;\n",
       "    }\n",
       "\n",
       "    .dataframe thead th {\n",
       "        text-align: right;\n",
       "    }\n",
       "</style>\n",
       "<table border=\"1\" class=\"dataframe\">\n",
       "  <thead>\n",
       "    <tr style=\"text-align: right;\">\n",
       "      <th></th>\n",
       "      <th>tconst</th>\n",
       "      <th>isAdult</th>\n",
       "      <th>startYear</th>\n",
       "      <th>runtimeMinutes</th>\n",
       "      <th>genreFirst</th>\n",
       "      <th>averageRating</th>\n",
       "      <th>numVotes</th>\n",
       "      <th>popularity</th>\n",
       "      <th>score</th>\n",
       "      <th>orginCountry</th>\n",
       "      <th>budgetUSD</th>\n",
       "      <th>oscarsWin</th>\n",
       "      <th>oscarsNom</th>\n",
       "    </tr>\n",
       "  </thead>\n",
       "  <tbody>\n",
       "    <tr>\n",
       "      <th>0</th>\n",
       "      <td>1796</td>\n",
       "      <td>0</td>\n",
       "      <td>43</td>\n",
       "      <td>138</td>\n",
       "      <td>8</td>\n",
       "      <td>6</td>\n",
       "      <td>2211</td>\n",
       "      <td>4</td>\n",
       "      <td>23</td>\n",
       "      <td>149</td>\n",
       "      <td>1214</td>\n",
       "      <td>0</td>\n",
       "      <td>7</td>\n",
       "    </tr>\n",
       "    <tr>\n",
       "      <th>1</th>\n",
       "      <td>6680</td>\n",
       "      <td>0</td>\n",
       "      <td>57</td>\n",
       "      <td>148</td>\n",
       "      <td>0</td>\n",
       "      <td>6</td>\n",
       "      <td>2210</td>\n",
       "      <td>4</td>\n",
       "      <td>22</td>\n",
       "      <td>149</td>\n",
       "      <td>1288</td>\n",
       "      <td>2</td>\n",
       "      <td>6</td>\n",
       "    </tr>\n",
       "    <tr>\n",
       "      <th>2</th>\n",
       "      <td>8976</td>\n",
       "      <td>0</td>\n",
       "      <td>59</td>\n",
       "      <td>144</td>\n",
       "      <td>0</td>\n",
       "      <td>5</td>\n",
       "      <td>2209</td>\n",
       "      <td>4</td>\n",
       "      <td>21</td>\n",
       "      <td>149</td>\n",
       "      <td>1282</td>\n",
       "      <td>4</td>\n",
       "      <td>4</td>\n",
       "    </tr>\n",
       "    <tr>\n",
       "      <th>3</th>\n",
       "      <td>588</td>\n",
       "      <td>0</td>\n",
       "      <td>21</td>\n",
       "      <td>171</td>\n",
       "      <td>6</td>\n",
       "      <td>6</td>\n",
       "      <td>2202</td>\n",
       "      <td>3</td>\n",
       "      <td>20</td>\n",
       "      <td>149</td>\n",
       "      <td>1140</td>\n",
       "      <td>3</td>\n",
       "      <td>8</td>\n",
       "    </tr>\n",
       "    <tr>\n",
       "      <th>4</th>\n",
       "      <td>1785</td>\n",
       "      <td>0</td>\n",
       "      <td>43</td>\n",
       "      <td>150</td>\n",
       "      <td>6</td>\n",
       "      <td>5</td>\n",
       "      <td>2207</td>\n",
       "      <td>3</td>\n",
       "      <td>19</td>\n",
       "      <td>149</td>\n",
       "      <td>1160</td>\n",
       "      <td>1</td>\n",
       "      <td>6</td>\n",
       "    </tr>\n",
       "  </tbody>\n",
       "</table>\n",
       "</div>"
      ],
      "text/plain": [
       "   tconst  isAdult  startYear  runtimeMinutes  genreFirst  averageRating  \\\n",
       "0    1796        0         43             138           8              6   \n",
       "1    6680        0         57             148           0              6   \n",
       "2    8976        0         59             144           0              5   \n",
       "3     588        0         21             171           6              6   \n",
       "4    1785        0         43             150           6              5   \n",
       "\n",
       "   numVotes  popularity  score  orginCountry  budgetUSD  oscarsWin  oscarsNom  \n",
       "0      2211           4     23           149       1214          0          7  \n",
       "1      2210           4     22           149       1288          2          6  \n",
       "2      2209           4     21           149       1282          4          4  \n",
       "3      2202           3     20           149       1140          3          8  \n",
       "4      2207           3     19           149       1160          1          6  "
      ]
     },
     "execution_count": 64,
     "metadata": {},
     "output_type": "execute_result"
    }
   ],
   "source": [
    "moviesSelectEnc.head()"
   ]
  },
  {
   "cell_type": "markdown",
   "metadata": {},
   "source": [
    "## 4. Finding correlativity\n",
    "\n",
    "The correlativity of data can be presented using heatmap."
   ]
  },
  {
   "cell_type": "code",
   "execution_count": 65,
   "metadata": {},
   "outputs": [
    {
     "data": {
      "image/png": "[encoded data removed]",
      "text/plain": [
       "<Figure size 1080x720 with 2 Axes>"
      ]
     },
     "metadata": {
      "needs_background": "light"
     },
     "output_type": "display_data"
    }
   ],
   "source": [
    "corr = moviesSelectEnc.corr()\n",
    "sns.heatmap(corr, xticklabels=corr.columns.values, yticklabels=corr.columns.values, annot = True)\n",
    "heat_map=plt.gcf()\n",
    "heat_map.set_size_inches(15,10)\n",
    "plt.xticks(fontsize=10)\n",
    "plt.yticks(fontsize=10)\n",
    "plt.show()"
   ]
  },
  {
   "cell_type": "markdown",
   "metadata": {},
   "source": [
    "From the above graph it can be concluded that: \n",
    "\n",
    "* The budget influences popularity of a movie;\n",
    "* Oscars won and Oscars nominations are related to popularity;\n",
    "* Number of votes is slightly related to runtime minutes of a movie."
   ]
  },
  {
   "cell_type": "markdown",
   "metadata": {},
   "source": [
    "## 5. Predictions with Random Forest\n",
    "\n",
    "As the score is calculated from averageRating and popularity (numVotes), it is clear that those columns need to be excluded from the data. "
   ]
  },
  {
   "cell_type": "code",
   "execution_count": 66,
   "metadata": {},
   "outputs": [],
   "source": [
    "labels = np.array(moviesSelectEnc['score']) #the value to be predicted\n",
    "features = moviesSelectEnc.drop(['averageRating', 'score', 'popularity', 'numVotes', 'tconst'], axis=1) #features to be excluded\n",
    "features = np.array(features)\n",
    "features_list = list(moviesSelectEnc.drop(['averageRating', 'score', 'popularity', 'numVotes', 'tconst'], axis=1))"
   ]
  },
  {
   "cell_type": "markdown",
   "metadata": {},
   "source": [
    "Now, the data can be split into train and test sets - the size of the sets will be 75:25."
   ]
  },
  {
   "cell_type": "code",
   "execution_count": 67,
   "metadata": {},
   "outputs": [],
   "source": [
    "train_features, test_features, train_labels, test_labels = train_test_split(features, labels, test_size = 0.25, random_state = 42)"
   ]
  },
  {
   "cell_type": "markdown",
   "metadata": {},
   "source": [
    "Making predictions using 50 estimators:"
   ]
  },
  {
   "cell_type": "code",
   "execution_count": 68,
   "metadata": {},
   "outputs": [],
   "source": [
    "reg = RandomForestRegressor(n_estimators = 50, random_state = 42)\n",
    "reg.fit(train_features, train_labels)\n",
    "predictions = reg.predict(test_features)"
   ]
  },
  {
   "cell_type": "markdown",
   "metadata": {},
   "source": [
    "In order to calculate the effectiveness of the predictions, the mean error will be calculated by using predictions and actual values."
   ]
  },
  {
   "cell_type": "code",
   "execution_count": 69,
   "metadata": {},
   "outputs": [
    {
     "name": "stdout",
     "output_type": "stream",
     "text": [
      "Error: 0.66\n"
     ]
    }
   ],
   "source": [
    "errors = abs(predictions - test_labels)\n",
    "print('Error:', round(np.mean(errors), 2))"
   ]
  },
  {
   "cell_type": "markdown",
   "metadata": {},
   "source": [
    "Predicted values can be compared with actual values and analysed further."
   ]
  },
  {
   "cell_type": "code",
   "execution_count": 70,
   "metadata": {},
   "outputs": [],
   "source": [
    "predictCompare = pd.DataFrame()\n",
    "predictCompare['scoreActual'] = test_labels\n",
    "predictCompare['scorePredicted'] = predictions\n",
    "predictCompare['error'] = abs(test_labels - predictions)"
   ]
  },
  {
   "cell_type": "code",
   "execution_count": 71,
   "metadata": {},
   "outputs": [
    {
     "data": {
      "text/html": [
       "<div>\n",
       "<style scoped>\n",
       "    .dataframe tbody tr th:only-of-type {\n",
       "        vertical-align: middle;\n",
       "    }\n",
       "\n",
       "    .dataframe tbody tr th {\n",
       "        vertical-align: top;\n",
       "    }\n",
       "\n",
       "    .dataframe thead th {\n",
       "        text-align: right;\n",
       "    }\n",
       "</style>\n",
       "<table border=\"1\" class=\"dataframe\">\n",
       "  <thead>\n",
       "    <tr style=\"text-align: right;\">\n",
       "      <th></th>\n",
       "      <th>scoreActual</th>\n",
       "      <th>scorePredicted</th>\n",
       "      <th>error</th>\n",
       "    </tr>\n",
       "  </thead>\n",
       "  <tbody>\n",
       "    <tr>\n",
       "      <th>0</th>\n",
       "      <td>0</td>\n",
       "      <td>1.920000</td>\n",
       "      <td>1.920000</td>\n",
       "    </tr>\n",
       "    <tr>\n",
       "      <th>1</th>\n",
       "      <td>3</td>\n",
       "      <td>1.960000</td>\n",
       "      <td>1.040000</td>\n",
       "    </tr>\n",
       "    <tr>\n",
       "      <th>2</th>\n",
       "      <td>3</td>\n",
       "      <td>3.140000</td>\n",
       "      <td>0.140000</td>\n",
       "    </tr>\n",
       "    <tr>\n",
       "      <th>3</th>\n",
       "      <td>3</td>\n",
       "      <td>3.156667</td>\n",
       "      <td>0.156667</td>\n",
       "    </tr>\n",
       "    <tr>\n",
       "      <th>4</th>\n",
       "      <td>2</td>\n",
       "      <td>1.360000</td>\n",
       "      <td>0.640000</td>\n",
       "    </tr>\n",
       "  </tbody>\n",
       "</table>\n",
       "</div>"
      ],
      "text/plain": [
       "   scoreActual  scorePredicted     error\n",
       "0            0        1.920000  1.920000\n",
       "1            3        1.960000  1.040000\n",
       "2            3        3.140000  0.140000\n",
       "3            3        3.156667  0.156667\n",
       "4            2        1.360000  0.640000"
      ]
     },
     "execution_count": 71,
     "metadata": {},
     "output_type": "execute_result"
    }
   ],
   "source": [
    "predictCompare.head()"
   ]
  },
  {
   "cell_type": "code",
   "execution_count": 72,
   "metadata": {},
   "outputs": [
    {
     "data": {
      "text/html": [
       "<div>\n",
       "<style scoped>\n",
       "    .dataframe tbody tr th:only-of-type {\n",
       "        vertical-align: middle;\n",
       "    }\n",
       "\n",
       "    .dataframe tbody tr th {\n",
       "        vertical-align: top;\n",
       "    }\n",
       "\n",
       "    .dataframe thead th {\n",
       "        text-align: right;\n",
       "    }\n",
       "</style>\n",
       "<table border=\"1\" class=\"dataframe\">\n",
       "  <thead>\n",
       "    <tr style=\"text-align: right;\">\n",
       "      <th></th>\n",
       "      <th>scoreActual</th>\n",
       "      <th>scorePredicted</th>\n",
       "      <th>error</th>\n",
       "    </tr>\n",
       "  </thead>\n",
       "  <tbody>\n",
       "    <tr>\n",
       "      <th>3146</th>\n",
       "      <td>23.0</td>\n",
       "      <td>12.18</td>\n",
       "      <td>10.82</td>\n",
       "    </tr>\n",
       "  </tbody>\n",
       "</table>\n",
       "</div>"
      ],
      "text/plain": [
       "      scoreActual  scorePredicted  error\n",
       "3146         23.0           12.18  10.82"
      ]
     },
     "execution_count": 72,
     "metadata": {},
     "output_type": "execute_result"
    }
   ],
   "source": [
    "predictCompare.where(predictCompare['error'] == predictCompare['error'].max()).dropna()"
   ]
  },
  {
   "cell_type": "code",
   "execution_count": 73,
   "metadata": {},
   "outputs": [
    {
     "data": {
      "text/html": [
       "<div>\n",
       "<style scoped>\n",
       "    .dataframe tbody tr th:only-of-type {\n",
       "        vertical-align: middle;\n",
       "    }\n",
       "\n",
       "    .dataframe tbody tr th {\n",
       "        vertical-align: top;\n",
       "    }\n",
       "\n",
       "    .dataframe thead th {\n",
       "        text-align: right;\n",
       "    }\n",
       "</style>\n",
       "<table border=\"1\" class=\"dataframe\">\n",
       "  <thead>\n",
       "    <tr style=\"text-align: right;\">\n",
       "      <th></th>\n",
       "      <th>scoreActual</th>\n",
       "      <th>scorePredicted</th>\n",
       "      <th>error</th>\n",
       "    </tr>\n",
       "  </thead>\n",
       "  <tbody>\n",
       "    <tr>\n",
       "      <th>3146</th>\n",
       "      <td>23.0</td>\n",
       "      <td>12.18</td>\n",
       "      <td>10.82</td>\n",
       "    </tr>\n",
       "  </tbody>\n",
       "</table>\n",
       "</div>"
      ],
      "text/plain": [
       "      scoreActual  scorePredicted  error\n",
       "3146         23.0           12.18  10.82"
      ]
     },
     "execution_count": 73,
     "metadata": {},
     "output_type": "execute_result"
    }
   ],
   "source": [
    "predictCompare.where(predictCompare['scoreActual'] == predictCompare['scoreActual'].max()).dropna()"
   ]
  },
  {
   "cell_type": "markdown",
   "metadata": {},
   "source": [
    "## 6. Finding importance of factors\n",
    "\n",
    "Based on the random forest classifier predictions, the importance of features used in predictions can be established.\n",
    "\n",
    "The top 5 features look as follows:"
   ]
  },
  {
   "cell_type": "code",
   "execution_count": 74,
   "metadata": {},
   "outputs": [
    {
     "data": {
      "text/html": [
       "<div>\n",
       "<style scoped>\n",
       "    .dataframe tbody tr th:only-of-type {\n",
       "        vertical-align: middle;\n",
       "    }\n",
       "\n",
       "    .dataframe tbody tr th {\n",
       "        vertical-align: top;\n",
       "    }\n",
       "\n",
       "    .dataframe thead th {\n",
       "        text-align: right;\n",
       "    }\n",
       "</style>\n",
       "<table border=\"1\" class=\"dataframe\">\n",
       "  <thead>\n",
       "    <tr style=\"text-align: right;\">\n",
       "      <th></th>\n",
       "      <th>impact</th>\n",
       "      <th>features</th>\n",
       "    </tr>\n",
       "  </thead>\n",
       "  <tbody>\n",
       "    <tr>\n",
       "      <th>7</th>\n",
       "      <td>0.236399</td>\n",
       "      <td>oscarsNom</td>\n",
       "    </tr>\n",
       "    <tr>\n",
       "      <th>5</th>\n",
       "      <td>0.186184</td>\n",
       "      <td>budgetUSD</td>\n",
       "    </tr>\n",
       "    <tr>\n",
       "      <th>3</th>\n",
       "      <td>0.167705</td>\n",
       "      <td>genreFirst</td>\n",
       "    </tr>\n",
       "    <tr>\n",
       "      <th>2</th>\n",
       "      <td>0.157076</td>\n",
       "      <td>runtimeMinutes</td>\n",
       "    </tr>\n",
       "    <tr>\n",
       "      <th>1</th>\n",
       "      <td>0.135544</td>\n",
       "      <td>startYear</td>\n",
       "    </tr>\n",
       "  </tbody>\n",
       "</table>\n",
       "</div>"
      ],
      "text/plain": [
       "     impact        features\n",
       "7  0.236399       oscarsNom\n",
       "5  0.186184       budgetUSD\n",
       "3  0.167705      genreFirst\n",
       "2  0.157076  runtimeMinutes\n",
       "1  0.135544       startYear"
      ]
     },
     "metadata": {},
     "output_type": "display_data"
    }
   ],
   "source": [
    "movies_f = pd.DataFrame(reg.feature_importances_, columns=['impact'])\n",
    "movies_f['features'] = features_list\n",
    "movies_f.sort_values('impact', inplace=True, ascending=False)\n",
    "display(movies_f.head())"
   ]
  },
  {
   "cell_type": "code",
   "execution_count": 75,
   "metadata": {},
   "outputs": [
    {
     "data": {
      "image/png": "[encoded data removed]",
      "text/plain": [
       "<Figure size 432x288 with 1 Axes>"
      ]
     },
     "metadata": {
      "needs_background": "light"
     },
     "output_type": "display_data"
    }
   ],
   "source": [
    "index = np.arange(len(reg.feature_importances_))\n",
    "bar_width = 0.5\n",
    "rects = plt.barh(index , movies_f['impact'], bar_width, alpha=1, color='g', label='Main')\n",
    "plt.yticks(index, movies_f['features'])\n",
    "plt.show()"
   ]
  },
  {
   "cell_type": "markdown",
   "metadata": {},
   "source": [
    "## 6. Final notes\n",
    "\n",
    "The algorythm can be further improved by collecting and incorporating more data, such as popularity of actors starring or directors being resposible for the titles. \n",
    "\n",
    "The top factors influencing the successfullness of a movie are:\n",
    "\n",
    "* runtime minutes\n",
    "* year of production\n",
    "* genre\n",
    "* country of orgin\n",
    "* budget\n",
    "\n",
    "Suprisingly, the budget used does not assure the success, regardless, it still strongly influences whether the movie will be popular and perceived well."
   ]
  }
 ],
 "metadata": {
  "kernelspec": {
   "display_name": "Python 3",
   "language": "python",
   "name": "python3"
  },
  "language_info": {
   "codemirror_mode": {
    "name": "ipython",
    "version": 3
   },
   "file_extension": ".py",
   "mimetype": "text/x-python",
   "name": "python",
   "nbconvert_exporter": "python",
   "pygments_lexer": "ipython3",
   "version": "3.7.3"
  }
 },
 "nbformat": 4,
 "nbformat_minor": 2
}
